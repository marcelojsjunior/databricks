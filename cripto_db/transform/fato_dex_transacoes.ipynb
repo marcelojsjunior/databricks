{
 "cells": [
  {
   "cell_type": "markdown",
   "metadata": {
    "application/vnd.databricks.v1+cell": {
     "cellMetadata": {
      "byteLimit": 2048000,
      "rowLimit": 10000
     },
     "inputWidgets": {},
     "nuid": "b1be4506-e67b-4639-82f4-0630aafcffbe",
     "showTitle": false,
     "tableResultSettingsMap": {},
     "title": ""
    }
   },
   "source": [
    "\n",
    "# Construção da Tabela Fato – `fato_dex_transacoes`\n",
    "\n",
    "Este notebook documenta o processo de criação da **tabela fato** `fato_dex_transacoes`, responsável por consolidar os dados transacionais normalizados da camada Bronze em um modelo dimensional analítico. A tabela integra múltiplas dimensões (tempo, token, exchange, rede, contrato) com os fatos quantitativos das transações descentralizadas (DEX).\n",
    "\n",
    "---\n",
    "\n",
    "## Objetivo\n",
    "\n",
    "A `fato_dex_transacoes` tem como propósito armazenar os eventos atômicos de troca de tokens em DEXs, com granularidade no nível de transação. Cada linha representa uma operação registrada na blockchain, enriquecida com chaves substitutas e métricas financeiras, permitindo análises agregadas com flexibilidade e performance.\n",
    "\n",
    "---\n",
    "\n",
    "## Etapas do Processo de Criação\n",
    "\n",
    "### 1. Carregamento da Bronze e das Dimensões\n",
    "\n",
    "Foram carregadas as seguintes tabelas:\n",
    "- `dex_trades_bronze` (camada transacional normalizada)\n",
    "- `dim_calendario`  \n",
    "- `dim_token` (utilizada duas vezes: para token base e quote)  \n",
    "- `dim_exchange`  \n",
    "- `dim_rede`  \n",
    "- `dim_tipo_contrato`  \n",
    "\n",
    "### 2. Aplicação de Aliases e Broadcast\n",
    "\n",
    "Para evitar ambiguidades em joins repetidos (ex: dois joins com `dim_token`), foram atribuídos aliases distintos a cada dimensão. As tabelas pequenas foram otimizadas com o uso de `broadcast()` para acelerar os joins sem causar shuffle.\n",
    "\n",
    "### 3. Realização dos Joins\n",
    "\n",
    "Foram executados joins do tipo `left` entre a bronze e cada dimensão, utilizando chaves naturais (ex: `moeda`, `nome_token`, `endereco_token`) para identificar corretamente os `id_*` de cada dimensão. As joins respeitaram o seguinte mapeamento:\n",
    "\n",
    "- `data_transacao` → `dim_calendario`\n",
    "- `moeda_base`, `nome_base`, `endereco_base` → `dim_token_base`\n",
    "- `moeda_quote`, `nome_quote`, `endereco_quote` → `dim_token_quote`\n",
    "- `exchange_nome`, `exchange_nome_completo`, `protocolo` → `dim_exchange`\n",
    "- `rede` → `dim_rede`\n",
    "- `tipo_contrato`, `simbolo_token_contrato`, `nome_token_contrato` → `dim_tipo_contrato`\n",
    "\n",
    "### 4. Seleção das Colunas Finais\n",
    "\n",
    "Foram selecionadas:\n",
    "- As **chaves substitutas** de cada dimensão (`fk_*`)\n",
    "- As **métricas transacionais**: `quantia_trocada_usd`, `quantia_compra`, `preco_cotacao`, `num_trades`, etc.\n",
    "- As **medidas operacionais de rede**: `gas`, `preco_gas`, `valor_gas`\n",
    "- Metadados como `data_ingestao` e `fonte`\n",
    "\n",
    "A granularidade foi preservada no nível de transação única, sem agregações, para máxima flexibilidade analítica.\n",
    "\n",
    "### 5. Escrita no Delta Lake\n",
    "\n",
    "A tabela foi gravada com o comando:\n",
    "\n",
    "```python\n",
    ".saveAsTable(\"workspace.ethereum.fato_dex_transacoes\")\n"
   ]
  },
  {
   "cell_type": "code",
   "execution_count": 0,
   "metadata": {
    "application/vnd.databricks.v1+cell": {
     "cellMetadata": {
      "byteLimit": 2048000,
      "rowLimit": 10000
     },
     "inputWidgets": {},
     "nuid": "31c9185d-b201-4c44-b954-d5d3fa576bd8",
     "showTitle": false,
     "tableResultSettingsMap": {},
     "title": ""
    }
   },
   "outputs": [],
   "source": [
    "# Carregando todas as dimensões\n",
    "from pyspark.sql.functions import to_date, col, broadcast\n",
    "\n",
    "dim_calendario_ = broadcast(spark.table(\"workspace.ethereum.dim_calendario\")).alias(\"dim_calendario\")\n",
    "dim_token_base = broadcast(spark.table(\"workspace.ethereum.dim_token\")).alias(\"dim_token_base\")\n",
    "dim_token_quote = broadcast(spark.table(\"workspace.ethereum.dim_token\")).alias(\"dim_token_quote\")\n",
    "dim_exchange_ = broadcast(spark.table(\"workspace.ethereum.dim_exchange\")).alias(\"dim_exchange\")\n",
    "dim_rede_ = broadcast(spark.table(\"workspace.ethereum.dim_rede\")).alias(\"dim_rede\")\n",
    "dim_tipo_contrato_ = broadcast(spark.table(\"workspace.ethereum.dim_tipo_contrato\")).alias(\"dim_tipo_contrato\")\n",
    "\n",
    "#carregando a bronze\n",
    "df_bronze = spark.table(\"workspace.ethereum.dex_trades_bronze\")\n",
    "df_bronze_ = df_bronze.alias(\"bronze\")"
   ]
  },
  {
   "cell_type": "code",
   "execution_count": 0,
   "metadata": {
    "application/vnd.databricks.v1+cell": {
     "cellMetadata": {
      "byteLimit": 2048000,
      "rowLimit": 10000
     },
     "inputWidgets": {},
     "nuid": "cd77471a-b1ba-46e4-8b90-371abfe4b3cf",
     "showTitle": false,
     "tableResultSettingsMap": {},
     "title": ""
    }
   },
   "outputs": [],
   "source": [
    "from pyspark.sql.functions import to_date, col\n",
    "\n",
    "# Criação da fato\n",
    "fato = df_bronze_ \\\n",
    "    .join(dim_calendario_, on=to_date(col(\"bronze.data_transacao\")) == col(\"dim_calendario.data\"), how=\"left\") \\\n",
    "    .join(dim_token_base, on=[\n",
    "        col(\"bronze.moeda_base\") == col(\"dim_token_base.moeda\"),\n",
    "        col(\"bronze.nome_base\") == col(\"dim_token_base.nome_token\"),\n",
    "        col(\"bronze.endereco_base\") == col(\"dim_token_base.endereco_token\")\n",
    "    ], how=\"left\") \\\n",
    "    .join(dim_token_quote, on=[\n",
    "        col(\"bronze.moeda_quote\") == col(\"dim_token_quote.moeda\"),\n",
    "        col(\"bronze.nome_quote\") == col(\"dim_token_quote.nome_token\"),\n",
    "        col(\"bronze.endereco_quote\") == col(\"dim_token_quote.endereco_token\")\n",
    "    ], how=\"left\") \\\n",
    "    .join(dim_exchange_, on=[\n",
    "        col(\"bronze.exchange_nome\") == col(\"dim_exchange.nome_exchange\"),\n",
    "        col(\"bronze.exchange_nome_completo\") == col(\"dim_exchange.nome_completo\"),\n",
    "        col(\"bronze.protocolo\") == col(\"dim_exchange.protocolo\")\n",
    "    ], how=\"left\") \\\n",
    "    .join(dim_rede_, col(\"bronze.rede\") == col(\"dim_rede.rede\"), how=\"left\") \\\n",
    "    .join(dim_tipo_contrato_, on=[\n",
    "        col(\"bronze.tipo_contrato\") == col(\"dim_tipo_contrato.tipo_contrato\"),\n",
    "        col(\"bronze.simbolo_token_contrato\") == col(\"dim_tipo_contrato.simbolo_token\"),\n",
    "        col(\"bronze.nome_token_contrato\") == col(\"dim_tipo_contrato.nome_token\")\n",
    "    ], how=\"left\")"
   ]
  },
  {
   "cell_type": "code",
   "execution_count": 0,
   "metadata": {
    "application/vnd.databricks.v1+cell": {
     "cellMetadata": {
      "byteLimit": 2048000,
      "rowLimit": 10000
     },
     "inputWidgets": {},
     "nuid": "9cb3ff06-a7bb-40aa-8fa8-2688b012303b",
     "showTitle": false,
     "tableResultSettingsMap": {},
     "title": ""
    }
   },
   "outputs": [],
   "source": [
    "fato_final = fato.select(\n",
    "    col(\"dim_calendario.id_data\").alias(\"fk_data\"),\n",
    "    col(\"dim_token_base.id_token\").alias(\"fk_token_base\"),\n",
    "    col(\"dim_token_quote.id_token\").alias(\"fk_token_quote\"),\n",
    "    col(\"dim_exchange.id_exchange\").alias(\"fk_exchange\"),\n",
    "    col(\"dim_rede.id_rede\").alias(\"fk_rede\"),\n",
    "    col(\"dim_tipo_contrato.id_tipo_contrato\").alias(\"fk_tipo_contrato\"),\n",
    "\n",
    "    col(\"bronze.quantia_trocada_usd\"),\n",
    "    col(\"bronze.quantia_compra\"),\n",
    "    col(\"bronze.quantia_venda\"),\n",
    "    col(\"bronze.quantia_base\"),\n",
    "    col(\"bronze.preco_cotacao\"),\n",
    "    col(\"bronze.preco_medio\"),\n",
    "    col(\"bronze.num_trades\"),\n",
    "\n",
    "    col(\"bronze.direcao\"),\n",
    "    col(\"bronze.gas\"),\n",
    "    col(\"bronze.preco_gas\"),\n",
    "    col(\"bronze.valor_gas\"),\n",
    "\n",
    "    col(\"bronze.data_ingestao\"),\n",
    "    col(\"bronze.fonte\")\n",
    ")\n",
    "\n",
    "# Visto que as minhas análises serão feitas com base em análises de séries temporais, irei particionar a fato por id_data para melhorar a performance\n",
    "fato_final.write \\\n",
    "    .format(\"delta\") \\\n",
    "    .mode(\"overwrite\") \\\n",
    "    .option(\"overwriteSchema\", \"true\") \\\n",
    "    .partitionBy(\"fk_data\") \\\n",
    "    .saveAsTable(\"workspace.ethereum.fato_dex_trades\")"
   ]
  }
 ],
 "metadata": {
  "application/vnd.databricks.v1+notebook": {
   "computePreferences": null,
   "dashboards": [],
   "environmentMetadata": {
    "base_environment": "",
    "environment_version": "2"
   },
   "inputWidgetPreferences": null,
   "language": "python",
   "notebookMetadata": {
    "pythonIndentUnit": 4
   },
   "notebookName": "fato_dex_transacoes",
   "widgets": {}
  },
  "language_info": {
   "name": "python"
  }
 },
 "nbformat": 4,
 "nbformat_minor": 0
}
