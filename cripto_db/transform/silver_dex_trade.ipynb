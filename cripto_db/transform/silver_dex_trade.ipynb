{
 "cells": [
  {
   "cell_type": "markdown",
   "metadata": {
    "application/vnd.databricks.v1+cell": {
     "cellMetadata": {},
     "inputWidgets": {},
     "nuid": "e9b9986d-66a1-48f6-b4bb-628b94fb1ae4",
     "showTitle": false,
     "tableResultSettingsMap": {},
     "title": ""
    }
   },
   "source": [
    "%md\n",
    "\n",
    "# Transformação para Silver – Análises Agregadas de Trades DEX\n",
    "\n",
    "Este notebook constrói a **camada Silver** do pipeline de dados Ethereum, com foco em análises agregadas e estruturadas para facilitar a exploração e visualização das transações de exchanges descentralizadas (DEX). A base utilizada é a tabela `workspace.ethereum.fato_dex_trades`, já enriquecida com chaves de dimensões e estruturada na camada Bronze.\n",
    "\n",
    "Pelo escopo deste projeto, a camada Silver será também a camada analítica final, não sendo necessária a construção de uma camada Gold. Todas as visões geradas nesta etapa já são otimizadas para consumo direto por dashboards, notebooks exploratórios e ferramentas de visualização. As agregações, filtros e joins com dimensões foram aplicados de forma que as tabelas resultantes entreguem valor analítico imediato, reduzindo a complexidade e o custo de manutenção de uma camada adicional.\n",
    "\n",
    "---\n",
    "\n",
    "## Objetivo\n",
    "\n",
    "Construir tabelas analíticas e agregadas na camada **Silver**, com os seguintes propósitos:\n",
    "\n",
    "- Consolidar dados transacionais em visões de alto nível  \n",
    "- Permitir análises temporais e comparativas por token, exchange e rede  \n",
    "- Servir de base para dashboards e relatórios no Streamlit ou Power BI  \n",
    "- Reduzir a complexidade de joins para os consumidores finais dos dados\n",
    "\n",
    "---\n",
    "\n",
    "## Etapas do Pipeline de Transformação\n",
    "\n",
    "### 1. Criação de Visões Agregadas\n",
    "\n",
    "A camada Silver gera **quatro visões analíticas principais**, conforme descrito abaixo:\n",
    "\n",
    "---\n",
    "\n",
    "### 🔹 `transacoes_token_dia_direcao_silver`\n",
    "\n",
    "Agrupa os dados por data, nome do token e direção da operação, trazendo métricas como:\n",
    "\n",
    "- Volume total em USD  \n",
    "- Preço médio do token  \n",
    "- Total de negociações (trades)  \n",
    "- Quantidade média negociada por transação  \n",
    "\n",
    "**Chaves:** `data`, `nome_dia`, `nome_token`, `moeda`, `direcao`  \n",
    "**Filtro aplicado:** `quantia_trocada_usd > 10.000`\n",
    "\n",
    "---\n",
    "\n",
    "### 🔹 `transacoes_exchange_dia_direcao_silver`\n",
    "\n",
    "Traz a movimentação por exchange, data e direção, agregando:\n",
    "\n",
    "- Total de transações registradas  \n",
    "- Volume em USD  \n",
    "- Preço médio  \n",
    "- Total de trades  \n",
    "\n",
    "**Chaves:** `data`, `nome_dia`, `nome_exchange`, `direcao`  \n",
    "**Filtro aplicado:** `quantia_trocada_usd > 5.000`\n",
    "\n",
    "---\n",
    "\n",
    "### 🔹 `transacoes_token_direcao_silver`\n",
    "\n",
    "Consolida os dados por token e direção (Buy/Sell), útil para análises comparativas de comportamento de mercado:\n",
    "\n",
    "- Total de transações  \n",
    "- Volume em USD  \n",
    "- Preço médio  \n",
    "\n",
    "**Chaves:** `nome_token`, `moeda`, `direcao`  \n",
    "**Filtro aplicado:** `quantia_trocada_usd > 5.000`\n",
    "\n",
    "---\n",
    "\n",
    "### 🔹 `analise_rede_dia_silver`\n",
    "\n",
    "Agrega os dados por **rede blockchain**, data e dia da semana, fornecendo:\n",
    "\n",
    "- Volume total em USD  \n",
    "- Total de trades realizados  \n",
    "\n",
    "**Chaves:** `fk_rede`, `data`, `nome_dia`  \n",
    "**Filtro aplicado:** `quantia_trocada_usd > 5.000`\n",
    "\n",
    "---\n",
    "\n",
    "## Observações Técnicas\n",
    "\n",
    "- Todas as tabelas foram salvas no formato **Delta Lake** com o modo `overwrite` para facilitar atualizações completas.\n",
    "- Filtros de corte mínimo (`quantia_trocada_usd`) foram aplicados para eliminar ruído e melhorar a qualidade das análises.\n",
    "- As dimensões utilizadas (`dim_calendario`, `dim_token`, `dim_exchange`) asseguram maior legibilidade sem comprometer a normalização.\n",
    "- A camada Silver serve como **base de dados intermediária**, ideal para consumo direto por dashboards e notebooks exploratórios.\n",
    "\n",
    "---\n",
    "\n",
    "## Próximos Passos\n",
    "\n",
    "- Construção de visualizações no **Streamlit** utilizando as tabelas Silver  \n",
    "- Criação de uma camada **Gold**, caso sejam necessárias análises combinadas ou enriquecidas com indicadores externos  \n",
    "- Monitoramento da qualidade das métricas com indicadores de consistência (ex: variações bruscas no volume ou número de trades)\n"
   ]
  },
  {
   "cell_type": "markdown",
   "metadata": {
    "application/vnd.databricks.v1+cell": {
     "cellMetadata": {},
     "inputWidgets": {},
     "nuid": "2236c24d-f310-4a6f-bda3-4a9a3d82392e",
     "showTitle": false,
     "tableResultSettingsMap": {},
     "title": ""
    }
   },
   "source": [
    "# Tabela de operações por token e direção"
   ]
  },
  {
   "cell_type": "code",
   "execution_count": 0,
   "metadata": {
    "application/vnd.databricks.v1+cell": {
     "cellMetadata": {
      "byteLimit": 2048000,
      "implicitDf": true,
      "rowLimit": 10000
     },
     "inputWidgets": {},
     "nuid": "59b8146f-7e6d-4570-a2d1-0da20a18e50a",
     "showTitle": false,
     "tableResultSettingsMap": {},
     "title": ""
    }
   },
   "outputs": [],
   "source": [
    "from pyspark.sql.functions import col, sum, avg\n",
    "\n",
    "(\n",
    "    spark.table(\"workspace.ethereum.fato_dex_trades\").alias(\"f\")\n",
    "    .join(spark.table(\"workspace.ethereum.dim_calendario\").alias(\"c\"), col(\"f.fk_data\") == col(\"c.id_data\"))\n",
    "    .join(spark.table(\"workspace.ethereum.dim_token\").alias(\"t\"), col(\"f.fk_token_base\") == col(\"t.id_token\"))\n",
    "    .filter(col(\"f.quantia_trocada_usd\") > 10000)\n",
    "    .groupBy(\n",
    "        col(\"c.data\"),\n",
    "        col(\"c.nome_dia\"),\n",
    "        col(\"t.nome_token\"),\n",
    "        col(\"t.moeda\"),\n",
    "        col(\"f.direcao\")\n",
    "    )\n",
    "    .agg(\n",
    "        sum(\"f.quantia_trocada_usd\").alias(\"volume_total_usd\"),\n",
    "        avg(\"f.preco_medio\").alias(\"preco_medio_usd\"),\n",
    "        sum(\"f.num_trades\").alias(\"total_trades\"),\n",
    "        avg(\"f.quantia_base\").alias(\"media_quantia_token\")\n",
    "    )\n",
    "    .write\n",
    "    .format(\"delta\")\n",
    "    .mode(\"overwrite\")\n",
    "    .saveAsTable(\"workspace.ethereum.transacoes_token_dia_direcao_silver\")\n",
    ")\n",
    "\n",
    "\n"
   ]
  },
  {
   "cell_type": "markdown",
   "metadata": {
    "application/vnd.databricks.v1+cell": {
     "cellMetadata": {},
     "inputWidgets": {},
     "nuid": "393f2672-7ad7-4564-b720-7fe5832773cf",
     "showTitle": false,
     "tableResultSettingsMap": {},
     "title": ""
    }
   },
   "source": [
    "# Transações por Exchange e Direção\n",
    "## Objetivo: Analisar volume e número de trades agrupados por exchange e direção (BUY/SELL)."
   ]
  },
  {
   "cell_type": "code",
   "execution_count": 0,
   "metadata": {
    "application/vnd.databricks.v1+cell": {
     "cellMetadata": {
      "byteLimit": 2048000,
      "implicitDf": true,
      "rowLimit": 10000
     },
     "inputWidgets": {},
     "nuid": "21dd4664-fccd-4bdd-9a3e-98a713436067",
     "showTitle": false,
     "tableResultSettingsMap": {},
     "title": ""
    }
   },
   "outputs": [],
   "source": [
    "from pyspark.sql.functions import col, count, sum, avg\n",
    "\n",
    "(\n",
    "    spark.table(\"workspace.ethereum.fato_dex_trades\").alias(\"f\")\n",
    "    .join(\n",
    "        spark.table(\"workspace.ethereum.dim_calendario\").alias(\"c\"),\n",
    "        col(\"f.fk_data\") == col(\"c.id_data\")\n",
    "    )\n",
    "    .join(\n",
    "        spark.table(\"workspace.ethereum.dim_exchange\").alias(\"e\"),\n",
    "        col(\"f.fk_exchange\") == col(\"e.id_exchange\")\n",
    "    )\n",
    "    .filter(col(\"f.quantia_trocada_usd\") > 5000)\n",
    "    .groupBy(\n",
    "        col(\"c.data\"),\n",
    "        col(\"c.nome_dia\").alias(\"dia_semana\"),\n",
    "        col(\"e.nome_exchange\"),\n",
    "        col(\"f.direcao\")\n",
    "    )\n",
    "    .agg(\n",
    "        count(\"*\").alias(\"total_transacoes\"),\n",
    "        sum(\"f.quantia_trocada_usd\").alias(\"volume_usd\"),\n",
    "        avg(\"f.preco_medio\").alias(\"preco_medio_usd\"),\n",
    "        sum(\"f.num_trades\").alias(\"total_trades\")\n",
    "    )\n",
    "    .write\n",
    "    .format(\"delta\")\n",
    "    .mode(\"overwrite\")\n",
    "    .saveAsTable(\"workspace.ethereum.transacoes_exchange_dia_direcao_silver\")\n",
    ")\n",
    "\n"
   ]
  },
  {
   "cell_type": "markdown",
   "metadata": {
    "application/vnd.databricks.v1+cell": {
     "cellMetadata": {},
     "inputWidgets": {},
     "nuid": "c3f279ce-112d-4134-8b84-29d20c21523a",
     "showTitle": false,
     "tableResultSettingsMap": {},
     "title": ""
    }
   },
   "source": [
    "# Volume Agregado por Token e Direção (sem data)\n",
    "## Objetivo: Visão macro de quais tokens estão sendo mais comprados ou vendidos, independentemente do dia."
   ]
  },
  {
   "cell_type": "code",
   "execution_count": 0,
   "metadata": {
    "application/vnd.databricks.v1+cell": {
     "cellMetadata": {
      "byteLimit": 2048000,
      "implicitDf": true,
      "rowLimit": 10000
     },
     "inputWidgets": {},
     "nuid": "c7776457-dbe6-44b6-ab1f-a00d61bbb52f",
     "showTitle": false,
     "tableResultSettingsMap": {},
     "title": ""
    }
   },
   "outputs": [],
   "source": [
    "from pyspark.sql.functions import col, count, sum, avg\n",
    "\n",
    "(\n",
    "    spark.table(\"workspace.ethereum.fato_dex_trades\").alias(\"f\")\n",
    "    .join(\n",
    "        spark.table(\"workspace.ethereum.dim_token\").alias(\"t\"),\n",
    "        col(\"f.fk_token_base\") == col(\"t.id_token\")\n",
    "    )\n",
    "    .filter(col(\"f.quantia_trocada_usd\") > 5000)\n",
    "    .groupBy(\n",
    "        col(\"t.nome_token\"),\n",
    "        col(\"t.moeda\"),\n",
    "        col(\"f.direcao\")\n",
    "    )\n",
    "    .agg(\n",
    "        count(\"*\").alias(\"total_transacoes\"),\n",
    "        sum(\"f.quantia_trocada_usd\").alias(\"volume_usd\"),\n",
    "        avg(\"f.preco_medio\").alias(\"preco_medio_usd\")\n",
    "    )\n",
    "    .write\n",
    "    .format(\"delta\")\n",
    "    .mode(\"overwrite\")\n",
    "    .saveAsTable(\"workspace.ethereum.transacoes_token_direcao_silver\")\n",
    ")\n",
    "\n"
   ]
  },
  {
   "cell_type": "markdown",
   "metadata": {
    "application/vnd.databricks.v1+cell": {
     "cellMetadata": {},
     "inputWidgets": {},
     "nuid": "57af41de-db65-4e1b-8053-4861cbbf7bd9",
     "showTitle": false,
     "tableResultSettingsMap": {},
     "title": ""
    }
   },
   "source": [
    "# tabela de transações por network"
   ]
  },
  {
   "cell_type": "code",
   "execution_count": 0,
   "metadata": {
    "application/vnd.databricks.v1+cell": {
     "cellMetadata": {
      "byteLimit": 2048000,
      "implicitDf": true,
      "rowLimit": 10000
     },
     "inputWidgets": {},
     "nuid": "fe686496-283b-4462-915a-6d2ef5a61213",
     "showTitle": false,
     "tableResultSettingsMap": {},
     "title": ""
    }
   },
   "outputs": [],
   "source": [
    "from pyspark.sql.functions import col, sum\n",
    "\n",
    "(\n",
    "    spark.table(\"workspace.ethereum.fato_dex_trades\").alias(\"f\")\n",
    "    .join(\n",
    "        spark.table(\"workspace.ethereum.dim_calendario\").alias(\"c\"),\n",
    "        col(\"f.fk_data\") == col(\"c.id_data\")\n",
    "    )\n",
    "    .join(\n",
    "        spark.table(\"workspace.ethereum.dim_rede\").alias(\"r\"),\n",
    "        col(\"f.fk_rede\") == col(\"r.id_rede\")\n",
    "    )\n",
    "    .filter(col(\"f.quantia_trocada_usd\") > 5000)\n",
    "    .groupBy(\n",
    "        col(\"f.fk_rede\"),\n",
    "        col(\"r.rede\"),\n",
    "        col(\"c.data\"),\n",
    "        col(\"c.nome_dia\")\n",
    "    )\n",
    "    .agg(\n",
    "        sum(\"f.quantia_trocada_usd\").alias(\"volume_total_usd\"),\n",
    "        sum(\"f.num_trades\").alias(\"total_trades\")\n",
    "    )\n",
    "    .write\n",
    "    .format(\"delta\")\n",
    "    .mode(\"overwrite\")\n",
    "    .saveAsTable(\"workspace.ethereum.analise_rede_dia_silver\")\n",
    ")\n",
    "\n"
   ]
  }
 ],
 "metadata": {
  "application/vnd.databricks.v1+notebook": {
   "computePreferences": null,
   "dashboards": [],
   "environmentMetadata": {
    "base_environment": "",
    "environment_version": "2"
   },
   "inputWidgetPreferences": null,
   "language": "python",
   "notebookMetadata": {
    "mostRecentlyExecutedCommandWithImplicitDF": {
     "commandId": -1,
     "dataframes": [
      "_sqldf"
     ]
    },
    "pythonIndentUnit": 4
   },
   "notebookName": "silver_dex_trade",
   "widgets": {}
  },
  "language_info": {
   "name": "python"
  }
 },
 "nbformat": 4,
 "nbformat_minor": 0
}
