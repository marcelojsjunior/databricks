{
 "cells": [
  {
   "cell_type": "markdown",
   "metadata": {
    "application/vnd.databricks.v1+cell": {
     "cellMetadata": {
      "byteLimit": 2048000,
      "rowLimit": 10000
     },
     "inputWidgets": {},
     "nuid": "c58b650b-816d-4c6b-9eaf-da929bbf494a",
     "showTitle": false,
     "tableResultSettingsMap": {},
     "title": ""
    }
   },
   "source": [
    "\n",
    "# Transformação para Bronze – Normalização de Trades DEX\n",
    "\n",
    "Este notebook realiza a transformação dos dados brutos da camada `raw` em uma tabela estruturada e otimizada na **camada Bronze**. A fonte dos dados é a tabela `workspace.ethereum.dex_trades_raw`, que contém transações extraídas da API da Bitquery sobre exchanges descentralizadas (DEX).\n",
    "\n",
    "---\n",
    "\n",
    "## Objetivo\n",
    "\n",
    "Construir a **camada Bronze (`workspace.ethereum.dex_trades_bronze`)** com os seguintes propósitos:\n",
    "\n",
    "- Estruturar os dados para facilitar análises e joins posteriores  \n",
    "- Eliminar registros nulos e duplicados  \n",
    "- Padronizar nomes e tipos de colunas  \n",
    "- Aplicar **particionamento** por ano e mês para otimização de leitura  \n",
    "\n",
    "---\n",
    "\n",
    "## Etapas do Pipeline de Transformação\n",
    "\n",
    "### 1. Seleção e Normalização dos Campos\n",
    "\n",
    "Nesta etapa, os dados brutos com campos aninhados (como `baseCurrency`, `quoteCurrency`, `exchange` e `smartContract`) são **explodidos e renomeados** com nomes claros e consistentes. Também é realizada a **padronização de tipos de dados**, como datas, valores numéricos e contadores, garantindo um esquema coerente e auditável para análises futuras.\n",
    "\n",
    "---\n",
    "\n",
    "### 2. Limpeza e Deduplicação\n",
    "\n",
    "São removidos todos os registros com valores ausentes em colunas críticas (como `data_transacao`, `quantia_trocada_usd` e `num_trades`). Após isso, aplica-se uma deduplicação total das linhas para garantir que não haja múltiplos registros com a mesma granularidade lógica.\n",
    "\n",
    "---\n",
    "\n",
    "### 3. Enriquecimento com Metadados\n",
    "\n",
    "O DataFrame é enriquecido com colunas auxiliares que suportam versionamento, rastreabilidade e particionamento:\n",
    "\n",
    "- **Ano e mês**: extraídos da `data_transacao`, permitem particionamento eficiente.\n",
    "- **Fonte**: identifica a origem dos dados como `\"bitquery\"`.\n",
    "- **Data de ingestão**: marca o momento de entrada do dado no pipeline.\n",
    "\n",
    "---\n",
    "\n",
    "### 4. Escrita da Tabela Bronze\n",
    "\n",
    "Os dados tratados e normalizados são armazenados em **formato Delta**, utilizando **particionamento físico por ano e mês**. Isso habilita o *partition pruning* durante as consultas, melhora o desempenho e reduz o custo computacional. A escrita é feita no modo `overwrite`, garantindo que os dados sejam atualizados de forma íntegra a cada execução.\n",
    "\n",
    "---\n",
    "\n",
    "## Comparação de Performance – Raw vs Bronze\n",
    "\n",
    "Foi realizada uma análise de desempenho entre as camadas Raw e Bronze, medindo:\n",
    "\n",
    "- Tempo de execução da leitura completa de cada tabela  \n",
    "- Quantidade de linhas retornadas  \n",
    "\n",
    "---\n",
    "\n",
    "## Interpretação\n",
    "\n",
    "A camada Bronze apresentou **ganhos expressivos de performance**, mesmo mantendo volume semelhante de dados. Esses ganhos se devem a:\n",
    "\n",
    "- Particionamento físico por `ano` e `mês`  \n",
    "- Estrutura mais enxuta e normalizada  \n",
    "- Tipagem explícita e ausência de campos aninhados  \n",
    "- Remoção de duplicações e dados inválidos  \n",
    "- Uso eficiente do Delta Lake com compactação e controle de versões  \n",
    "\n",
    "> Em pipelines analíticos e arquiteturas escaláveis, esse tipo de otimização é fundamental para desempenho, governança e manutenção futura.\n",
    "\n",
    "---\n",
    "\n",
    "## Boas Práticas Aplicadas\n",
    "\n",
    "- Conversão explícita de tipos durante a transformação  \n",
    "- Padronização semântica de nomes de colunas  \n",
    "- Validação de dados antes da persistência  \n",
    "- Escrita em Delta com controle de particionamento e versionamento  \n",
    "- Organização da lógica de ingestão em etapas modulares e reutilizáveis  \n",
    "\n",
    "---\n",
    "\n",
    "## Próximos Passos\n",
    "\n",
    "- Construção da **camada Silver**, com joins e enriquecimentos  \n",
    "- Criação das dimensões analíticas:\n",
    "  - `dim_calendario`\n",
    "  - `dim_token`\n",
    "  - `dim_exchange`\n",
    "- Modelagem da tabela **fato_transacao_dex**\n",
    "- Desenvolvimento de dashboards com insights como:\n",
    "  - Volume diário transacionado por protocolo\n",
    "  - Gasto médio de gas por rede\n",
    "  - Tokens mais negociados em DEXs\n",
    "\n",
    "---\n",
    "\n"
   ]
  },
  {
   "cell_type": "markdown",
   "metadata": {
    "application/vnd.databricks.v1+cell": {
     "cellMetadata": {
      "byteLimit": 2048000,
      "rowLimit": 10000
     },
     "inputWidgets": {},
     "nuid": "377ca682-0eb5-4a04-998e-adcde9374ad6",
     "showTitle": false,
     "tableResultSettingsMap": {},
     "title": ""
    }
   },
   "source": [
    "## Explodindo e renomeando campos aninhados"
   ]
  },
  {
   "cell_type": "code",
   "execution_count": 0,
   "metadata": {
    "application/vnd.databricks.v1+cell": {
     "cellMetadata": {
      "byteLimit": 2048000,
      "rowLimit": 10000
     },
     "inputWidgets": {},
     "nuid": "588ffb91-f6be-4439-9441-03e896cf0e3c",
     "showTitle": false,
     "tableResultSettingsMap": {},
     "title": ""
    }
   },
   "outputs": [],
   "source": [
    "from pyspark.sql.functions import col, to_date, current_timestamp, expr\n",
    "from pyspark.sql.types import DoubleType, LongType\n",
    "\n",
    "df_raw = spark.table(\"workspace.ethereum.dex_trades_raw\")\n",
    "\n",
    "df_bronze = df_raw.select(\n",
    "    to_date(col(\"date.date\")).alias(\"data_transacao\"),\n",
    "\n",
    "    col(\"baseCurrency.symbol\").alias(\"moeda_base\"),\n",
    "    col(\"BaseCurrency.name\").alias(\"nome_base\"),\n",
    "    col(\"baseCurrency.address\").alias(\"endereco_base\"),\n",
    "\n",
    "    col(\"quoteCurrency.symbol\").alias(\"moeda_quote\"),\n",
    "    col(\"quoteCurrency.name\").alias(\"nome_quote\"),\n",
    "    col(\"quoteCurrency.address\").alias(\"endereco_quote\"),\n",
    "\n",
    "    col(\"exchange.name\").alias(\"exchange_nome\"),\n",
    "    col(\"exchange.FullName\").alias(\"exchange_nome_completo\"),\n",
    "    \n",
    "    col(\"tradeAmount\").cast(DoubleType()).alias(\"quantia_trocada_usd\"),\n",
    "    col(\"buyAmount\").cast(DoubleType()).alias(\"quantia_compra\"),\n",
    "    col(\"sellAmount\").cast(DoubleType()).alias(\"quantia_venda\"),\n",
    "    col(\"baseAmount\").cast(DoubleType()).alias(\"quantia_base\"),\n",
    "    col(\"quotePrice\").cast(DoubleType()).alias(\"preco_cotacao\"),\n",
    "    col(\"price\").cast(DoubleType()).alias(\"preco_medio\"),\n",
    "    col(\"trades\").cast(LongType()).alias(\"num_trades\"),\n",
    "    col(\"protocol\").alias(\"protocolo\"),\n",
    "    col(\"side\").alias(\"direcao\"),\n",
    "    col(\"gas\").cast(LongType()).alias(\"gas\"),\n",
    "    col(\"gasPrice\").cast(DoubleType()).alias(\"preco_gas\"),\n",
    "    col(\"gasValue\").cast(DoubleType()).alias(\"valor_gas\"),\n",
    "\n",
    "    col(\"smartContract.currency.symbol\").alias(\"simbolo_token_contrato\"),\n",
    "    col(\"smartContract.currency.name\").alias(\"nome_token_contrato\"),\n",
    "    col(\"smartContract.contractType\").alias(\"tipo_contrato\"),\n",
    "\n",
    "    col(\"network\").alias(\"rede\"),\n",
    "    current_timestamp().alias(\"data_ingestao\")\n",
    ")\n",
    "\n"
   ]
  },
  {
   "cell_type": "markdown",
   "metadata": {
    "application/vnd.databricks.v1+cell": {
     "cellMetadata": {
      "byteLimit": 2048000,
      "rowLimit": 10000
     },
     "inputWidgets": {},
     "nuid": "de40f441-0899-4415-aa61-e976408f1963",
     "showTitle": false,
     "tableResultSettingsMap": {},
     "title": ""
    }
   },
   "source": [
    "## Limpeza"
   ]
  },
  {
   "cell_type": "code",
   "execution_count": 0,
   "metadata": {
    "application/vnd.databricks.v1+cell": {
     "cellMetadata": {
      "byteLimit": 2048000,
      "rowLimit": 10000
     },
     "inputWidgets": {},
     "nuid": "70d01662-f62d-4540-91c1-4e4041b2daee",
     "showTitle": false,
     "tableResultSettingsMap": {},
     "title": ""
    }
   },
   "outputs": [],
   "source": [
    "df_bronze_clean = df_bronze.dropna(subset=[\"data_transacao\", \"quantia_trocada_usd\", \"num_trades\"])\n",
    "df_bronze_clean = df_bronze.dropDuplicates()"
   ]
  },
  {
   "cell_type": "markdown",
   "metadata": {
    "application/vnd.databricks.v1+cell": {
     "cellMetadata": {
      "byteLimit": 2048000,
      "rowLimit": 10000
     },
     "inputWidgets": {},
     "nuid": "d0cb29a4-5ed7-4437-9d0e-8b2b6c5ce55b",
     "showTitle": false,
     "tableResultSettingsMap": {},
     "title": ""
    }
   },
   "source": [
    "## Adicionando colunas de partição"
   ]
  },
  {
   "cell_type": "code",
   "execution_count": 0,
   "metadata": {
    "application/vnd.databricks.v1+cell": {
     "cellMetadata": {
      "byteLimit": 2048000,
      "rowLimit": 10000
     },
     "inputWidgets": {},
     "nuid": "7496fedd-f8e8-4024-b396-8d5dfe683dc4",
     "showTitle": false,
     "tableResultSettingsMap": {},
     "title": ""
    }
   },
   "outputs": [],
   "source": [
    "df_bronze_final = df_bronze_clean.withColumn(\"ano\", year(\"data_transacao\")) \\\n",
    "                                 .withColumn(\"mes\", month(\"data_transacao\")) \\\n",
    "                                 .withColumn(\"fonte\", lit(\"bitquery\"))"
   ]
  },
  {
   "cell_type": "markdown",
   "metadata": {
    "application/vnd.databricks.v1+cell": {
     "cellMetadata": {
      "byteLimit": 2048000,
      "rowLimit": 10000
     },
     "inputWidgets": {},
     "nuid": "b9baa614-982c-4d2e-a279-b98f03fe7517",
     "showTitle": false,
     "tableResultSettingsMap": {},
     "title": ""
    }
   },
   "source": [
    "## Criando tabela na camada Bronze"
   ]
  },
  {
   "cell_type": "code",
   "execution_count": 0,
   "metadata": {
    "application/vnd.databricks.v1+cell": {
     "cellMetadata": {
      "byteLimit": 2048000,
      "rowLimit": 10000
     },
     "inputWidgets": {},
     "nuid": "169e8289-5459-4b8f-aac6-a4e7838ca5cc",
     "showTitle": false,
     "tableResultSettingsMap": {},
     "title": ""
    }
   },
   "outputs": [],
   "source": [
    "df_bronze_final.write.format(\"delta\") \\\n",
    "    .mode(\"overwrite\") \\\n",
    "    .partitionBy(\"ano\", \"mes\") \\\n",
    "    .saveAsTable(\"workspace.ethereum.dex_trades_bronze\")"
   ]
  },
  {
   "cell_type": "markdown",
   "metadata": {
    "application/vnd.databricks.v1+cell": {
     "cellMetadata": {},
     "inputWidgets": {},
     "nuid": "a11713fe-d3ec-4705-89aa-6735d0eecca4",
     "showTitle": false,
     "tableResultSettingsMap": {},
     "title": ""
    }
   },
   "source": [
    "## Verificação de tempo de execução para monitoramento"
   ]
  },
  {
   "cell_type": "code",
   "execution_count": 0,
   "metadata": {
    "application/vnd.databricks.v1+cell": {
     "cellMetadata": {
      "byteLimit": 2048000,
      "rowLimit": 10000
     },
     "inputWidgets": {},
     "nuid": "5120c168-1c6c-4bf8-aa91-27de4e3ed729",
     "showTitle": false,
     "tableResultSettingsMap": {},
     "title": ""
    }
   },
   "outputs": [
    {
     "output_type": "display_data",
     "data": {
      "text/plain": [
       "Databricks visualization. Run in Databricks to view."
      ]
     },
     "metadata": {
      "application/vnd.databricks.v1.subcommand+json": {
       "baseErrorDetails": null,
       "bindings": {},
       "collapsed": false,
       "command": "%python\n__backend_agg_display_orig = display\n__backend_agg_dfs = []\ndef __backend_agg_display_new(df):\n    __backend_agg_df_modules = [\"pandas.core.frame\", \"databricks.koalas.frame\", \"pyspark.sql.dataframe\", \"pyspark.pandas.frame\", \"pyspark.sql.connect.dataframe\"]\n    if (type(df).__module__ in __backend_agg_df_modules and type(df).__name__ == 'DataFrame') or isinstance(df, list):\n        __backend_agg_dfs.append(df)\n\ndisplay = __backend_agg_display_new\n\ndef __backend_agg_user_code_fn():\n    import base64\n    exec(base64.standard_b64decode(\"ZnJvbSB0aW1lIGltcG9ydCB0aW1lCgpkZWYgbWVkaXJfZXhlY3VjYW8oc3FsKToKICAgIGluaWNpbyA9IHRpbWUoKQogICAgZGYgPSBzcGFyay5zcWwoc3FsKQogICAgY291bnQgPSBkZi5jb3VudCgpCiAgICBkdXJhY2FvID0gcm91bmQodGltZSgpIC0gaW5pY2lvLCAyKQogICAgcmV0dXJuIGNvdW50LCBkdXJhY2FvCgpyYXdfY291bnQsIHJhd19kdXJhY2FvID0gbWVkaXJfZXhlY3VjYW8oIlNFTEVDVCAqIEZST00gd29ya3NwYWNlLmV0aGVyZXVtLmRleF90cmFkZXNfcmF3IikKYnJvbnplX2NvdW50LCBicm9uemVfZHVyYWNhbyA9IG1lZGlyX2V4ZWN1Y2FvKCJTRUxFQ1QgKiBGUk9NIHdvcmtzcGFjZS5ldGhlcmV1bS5kZXhfdHJhZGVzX2Jyb256ZSIpCgppbXBvcnQgcGFuZGFzIGFzIHBkCgpkYWRvc19jb21wYXJhY2FvID0gcGQuRGF0YUZyYW1lKHsKICAgICJDYW1hZGEiOiBbIlJhdyIsICJCcm9uemUiXSwKICAgICJMaW5oYXMiOiBbcmF3X2NvdW50LCBicm9uemVfY291bnRdLAogICAgIlRlbXBvIGRlIEV4ZWN1w6fDo28gKHMpIjogW3Jhd19kdXJhY2FvLCBicm9uemVfZHVyYWNhb10KfSkKCmRpc3BsYXkoc3BhcmsuY3JlYXRlRGF0YUZyYW1lKGRhZG9zX2NvbXBhcmFjYW8pKQ==\").decode())\n\ntry:\n    # run user code\n    __backend_agg_user_code_fn()\n\n    #reset display function\n    display = __backend_agg_display_orig\n\n    if len(__backend_agg_dfs) > 0:\n        # create a temp view\n        if type(__backend_agg_dfs[0]).__module__ == \"databricks.koalas.frame\":\n            # koalas dataframe\n            __backend_agg_dfs[0].to_spark().createOrReplaceTempView(\"DatabricksView461dd44\")\n        elif type(__backend_agg_dfs[0]).__module__ == \"pandas.core.frame\" or isinstance(__backend_agg_dfs[0], list):\n            # pandas dataframe\n            spark.createDataFrame(__backend_agg_dfs[0]).createOrReplaceTempView(\"DatabricksView461dd44\")\n        else:\n            __backend_agg_dfs[0].createOrReplaceTempView(\"DatabricksView461dd44\")\n        #run backend agg\n        display(spark.sql(\"\"\"WITH q AS (select * from DatabricksView461dd44) SELECT `Camada`,SUM(`Tempo de Execução (s)`) `column_d39c7aae75`,`Tempo de Execução (s)` FROM q GROUP BY `Camada`,`Tempo de Execução (s)`\"\"\"))\n    else:\n        displayHTML(\"dataframe no longer exists. If you're using dataframe.display(), use display(dataframe) instead.\")\n\n\nfinally:\n    spark.sql(\"drop view if exists DatabricksView461dd44\")\n    display = __backend_agg_display_orig\n    del __backend_agg_display_new\n    del __backend_agg_display_orig\n    del __backend_agg_dfs\n    del __backend_agg_user_code_fn\n\n",
       "commandTitle": "Tempo De execução",
       "commandType": "auto",
       "commandVersion": 0,
       "commentThread": [],
       "commentsVisible": false,
       "contentSha256Hex": null,
       "customPlotOptions": {
        "redashChart": [
         {
          "key": "type",
          "value": "CHART"
         },
         {
          "key": "options",
          "value": {
           "alignYAxesAtZero": true,
           "coefficient": 1,
           "columnConfigurationMap": {
            "series": {
             "column": "Tempo de Execução (s)",
             "id": "column_d39c7aae78"
            },
            "x": {
             "column": "Camada",
             "id": "column_d39c7aae79"
            },
            "y": [
             {
              "column": "Tempo de Execução (s)",
              "id": "column_d39c7aae75",
              "transform": "SUM"
             }
            ]
           },
           "dateTimeFormat": "DD/MM/YYYY HH:mm",
           "direction": {
            "type": "counterclockwise"
           },
           "error_y": {
            "type": "data",
            "visible": true
           },
           "globalSeriesType": "column",
           "isAggregationOn": true,
           "legend": {
            "traceorder": "reversed"
           },
           "missingValuesAsZero": true,
           "numberFormat": "0,0.[00000]",
           "percentFormat": "0[.]00%",
           "series": {
            "error_y": {
             "type": "data",
             "visible": true
            },
            "percentValues": false,
            "stacking": "stack"
           },
           "seriesOptions": {
            "column_d39c7aae75": {
             "name": "Tempo de Execução (s)",
             "type": "column",
             "yAxis": 0
            }
           },
           "showDataLabels": false,
           "sizemode": "diameter",
           "sortX": true,
           "sortY": true,
           "swappedAxes": false,
           "textFormat": "",
           "useAggregationsUi": true,
           "valuesOptions": {},
           "version": 2,
           "xAxis": {
            "labels": {
             "enabled": true
            },
            "type": "-"
           },
           "yAxis": [
            {
             "type": "linear"
            },
            {
             "opposite": true,
             "type": "-"
            }
           ]
          }
         }
        ]
       },
       "datasetPreviewNameToCmdIdMap": {},
       "diffDeletes": [],
       "diffInserts": [],
       "displayType": "redashChart",
       "error": null,
       "errorDetails": null,
       "errorSummary": null,
       "errorTraceType": null,
       "finishTime": 0,
       "globalVars": {},
       "guid": "",
       "height": "auto",
       "hideCommandCode": false,
       "hideCommandResult": false,
       "iPythonMetadata": null,
       "inputWidgets": {},
       "isLockedInExamMode": false,
       "latestUser": "a user",
       "latestUserId": null,
       "listResultMetadata": null,
       "metadata": {},
       "nuid": "a6e2fb98-55f8-4235-b574-0d76f8ef465a",
       "origId": 0,
       "parentHierarchy": [],
       "pivotAggregation": null,
       "pivotColumns": null,
       "position": 5.3671875,
       "resultDbfsErrorMessage": null,
       "resultDbfsStatus": "INLINED_IN_TREE",
       "results": null,
       "showCommandTitle": false,
       "startTime": 0,
       "state": "input",
       "streamStates": {},
       "subcommandOptions": {
        "queryPlan": {
         "groups": [
          {
           "column": "Camada",
           "type": "column"
          },
          {
           "column": "Tempo de Execução (s)",
           "type": "column"
          }
         ],
         "selects": [
          {
           "column": "Camada",
           "type": "column"
          },
          {
           "alias": "column_d39c7aae75",
           "args": [
            {
             "column": "Tempo de Execução (s)",
             "type": "column"
            }
           ],
           "function": "SUM",
           "type": "function"
          },
          {
           "column": "Tempo de Execução (s)",
           "type": "column"
          }
         ]
        }
       },
       "submitTime": 0,
       "subtype": "tableResultSubCmd.visualization",
       "tableResultIndex": 0,
       "tableResultSettingsMap": {},
       "useConsistentColors": false,
       "version": "CommandV1",
       "width": "auto",
       "workflows": null,
       "xColumns": null,
       "yColumns": null
      }
     },
     "output_type": "display_data"
    }
   ],
   "source": [
    "from time import time\n",
    "\n",
    "def medir_execucao(sql):\n",
    "    inicio = time()\n",
    "    df = spark.sql(sql)\n",
    "    count = df.count()\n",
    "    duracao = round(time() - inicio, 2)\n",
    "    return count, duracao\n",
    "\n",
    "raw_count, raw_duracao = medir_execucao(\"SELECT * FROM workspace.ethereum.dex_trades_raw\")\n",
    "bronze_count, bronze_duracao = medir_execucao(\"SELECT * FROM workspace.ethereum.dex_trades_bronze\")\n",
    "\n",
    "import pandas as pd\n",
    "\n",
    "dados_comparacao = pd.DataFrame({\n",
    "    \"Camada\": [\"Raw\", \"Bronze\"],\n",
    "    \"Linhas\": [raw_count, bronze_count],\n",
    "    \"Tempo de Execução (s)\": [raw_duracao, bronze_duracao]\n",
    "})\n",
    "\n",
    "display(spark.createDataFrame(dados_comparacao))"
   ]
  }
 ],
 "metadata": {
  "application/vnd.databricks.v1+notebook": {
   "computePreferences": null,
   "dashboards": [],
   "environmentMetadata": {
    "base_environment": "",
    "environment_version": "2"
   },
   "inputWidgetPreferences": null,
   "language": "python",
   "notebookMetadata": {
    "mostRecentlyExecutedCommandWithImplicitDF": {
     "commandId": 4809642261587116,
     "dataframes": [
      "_sqldf"
     ]
    },
    "pythonIndentUnit": 4
   },
   "notebookName": "dex_trade_bronze",
   "widgets": {}
  },
  "language_info": {
   "name": "python"
  }
 },
 "nbformat": 4,
 "nbformat_minor": 0
}
