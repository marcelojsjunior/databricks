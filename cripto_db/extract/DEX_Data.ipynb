{
 "cells": [
  {
   "cell_type": "code",
   "execution_count": 0,
   "metadata": {
    "application/vnd.databricks.v1+cell": {
     "cellMetadata": {
      "byteLimit": 2048000,
      "rowLimit": 10000
     },
     "inputWidgets": {},
     "nuid": "f7ca07f4-bf9a-4d2b-8fe5-03ba4b9678ea",
     "showTitle": false,
     "tableResultSettingsMap": {},
     "title": ""
    }
   },
   "outputs": [],
   "source": [
    "import requests\n",
    "import json\n",
    "from datetime import datetime, timedelta\n",
    "from web3 import Web3\n",
    "import pandas as pd\n",
    "\n",
    "hoje = datetime.utcnow()\n",
    "inicio = (hoje - timedelta(days=30)).strftime(\"%Y-%m-%d\")\n",
    "fim = hoje.strftime(\"%Y-%m-%d\")\n",
    "\n",
    "print(f\"inicio: {inicio}\") \n",
    "print(f\"fim: {fim}\")\n",
    "\n",
    "usdc_checksum = Web3.to_checksum_address(\"0xA0b86991c6218b36c1d19d4a2e9Eb0cE3606eB48\")\n",
    "\n",
    "access_token = \"ory_at_dVus-KX5ztTduh_cX-fbCrswhHCVjCyZ1wkMskhRL6c.70NmAvuT6kyJ0bWfrii3Vu2Bs4YP6X3_E9YOnq7oUnQ\"\n",
    "headers = {\n",
    "    \"Authorization\": f\"Bearer {access_token}\",\n",
    "    \"Content-Type\": \"application/json\"\n",
    "}\n",
    "\n",
    "\n",
    "networks = [\"ethereum\", \"matic\", \"fantom\", \"avalanche\", \"klaytn\"]\n",
    "\n",
    "url = \"https://graphql.bitquery.io\"\n",
    "\n",
    "dfs = []\n",
    "\n",
    "for network in networks:\n",
    "    print(f\"🔍 Coletando dados para: {network}\")\n",
    "\n",
    "    query = f'''\n",
    "    {{\n",
    "    ethereum(network: {network}) {{\n",
    "        dexTrades(\n",
    "        date: {{after: \"{inicio}\", till: \"{fim}\"}},\n",
    "        tradeAmountUsd: {{gt: 30000}},\n",
    "        options: {{limit: 10000}}\n",
    "        ) {{\n",
    "        date {{\n",
    "            date\n",
    "        }}\n",
    "        baseCurrency {{\n",
    "            symbol\n",
    "            name\n",
    "            address\n",
    "        }}\n",
    "        quoteCurrency {{\n",
    "            symbol\n",
    "            name\n",
    "            address\n",
    "        }}\n",
    "        buyCurrency {{\n",
    "            symbol\n",
    "        }}\n",
    "        sellCurrency {{\n",
    "            symbol\n",
    "            name\n",
    "            address\n",
    "            tokenId\n",
    "        }}\n",
    "        exchange {{\n",
    "            name\n",
    "            fullName\n",
    "        }}\n",
    "        tradeAmount(in: USD)\n",
    "        buyAmount\n",
    "        sellAmount\n",
    "        baseAmount\n",
    "        quotePrice\n",
    "        price\n",
    "        trades: count\n",
    "        protocol\n",
    "        side\n",
    "        gas\n",
    "        gasPrice\n",
    "        gasValue\n",
    "        smartContract {{\n",
    "            contractType\n",
    "            currency {{\n",
    "            name\n",
    "            symbol\n",
    "            }}\n",
    "        }}\n",
    "        }}\n",
    "    }}\n",
    "    }}\n",
    "    '''\n",
    "\n",
    "    try:\n",
    "        response = requests.post(url, headers=headers, data=json.dumps({\"query\": query}))\n",
    "        print(\"📝 Status:\", response.status_code)\n",
    "        print(\"📝 Resposta crua:\", response.text[:300])\n",
    "        json_response = response.json()\n",
    "\n",
    "        trades = json_response.get(\"data\", {}).get(\"ethereum\", {}).get(\"dexTrades\", [])\n",
    "        if trades and isinstance(trades, list):\n",
    "            df = pd.DataFrame(trades)\n",
    "            df[\"network\"] = network\n",
    "            dfs.append(df)\n",
    "        else:\n",
    "            print(f\"⚠️ Nenhum dado retornado para: {network}\")\n",
    "    except Exception as e:\n",
    "        print(f\"❌ Erro em {network}: {e}\")\n",
    "\n",
    "if dfs:\n",
    "    df_total = pd.concat(dfs, ignore_index=True)\n",
    "    df_spark = spark.createDataFrame(df_total)\n",
    "    display(df_spark)\n",
    "else:\n",
    "    print(\"⚠️ Nenhum dado foi coletado de nenhuma rede.\")\n"
   ]
  },
  {
   "cell_type": "code",
   "execution_count": 0,
   "metadata": {
    "application/vnd.databricks.v1+cell": {
     "cellMetadata": {
      "byteLimit": 2048000,
      "rowLimit": 10000
     },
     "inputWidgets": {},
     "nuid": "13da3cf6-d57e-4c83-98a1-2d3d59abfef5",
     "showTitle": false,
     "tableResultSettingsMap": {},
     "title": ""
    }
   },
   "outputs": [],
   "source": [
    "spark.sql(\"CREATE SCHEMA IF NOT EXISTS workspace\")\n",
    "df_spark.write \\\n",
    "    .format(\"delta\") \\\n",
    "    .mode(\"append\") \\\n",
    "    .saveAsTable(\"workspace.ethereum.dex_trades_raw\")"
   ]
  }
 ],
 "metadata": {
  "application/vnd.databricks.v1+notebook": {
   "computePreferences": null,
   "dashboards": [],
   "environmentMetadata": {
    "base_environment": "",
    "environment_version": "2"
   },
   "inputWidgetPreferences": null,
   "language": "python",
   "notebookMetadata": {
    "mostRecentlyExecutedCommandWithImplicitDF": {
     "commandId": 7697133431185877,
     "dataframes": [
      "_sqldf"
     ]
    },
    "pythonIndentUnit": 4
   },
   "notebookName": "DEX_Data",
   "widgets": {}
  },
  "language_info": {
   "name": "python"
  }
 },
 "nbformat": 4,
 "nbformat_minor": 0
}
