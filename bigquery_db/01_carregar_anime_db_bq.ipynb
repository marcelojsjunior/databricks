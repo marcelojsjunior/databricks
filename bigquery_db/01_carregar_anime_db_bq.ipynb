{
 "cells": [
  {
   "cell_type": "code",
   "execution_count": 0,
   "metadata": {
    "application/vnd.databricks.v1+cell": {
     "cellMetadata": {
      "byteLimit": 2048000,
      "rowLimit": 10000
     },
     "inputWidgets": {},
     "nuid": "105a306d-6e54-4b18-8874-c72c8fca3f67",
     "showTitle": false,
     "tableResultSettingsMap": {},
     "title": ""
    }
   },
   "outputs": [],
   "source": [
    "import base64\n",
    "\n",
    "def carregar_credenciais_base64(path):\n",
    "    rows = spark.read.text(path).collect()\n",
    "    json_txt = \"\\n\".join([row[0] for row in rows])\n",
    "    return base64.b64encode(json_txt.encode(\"utf-8\")).decode(\"utf-8\")\n",
    "\n",
    "credentials_base64 = carregar_credenciais_base64(\"/Volumes/credentials/credentials/bg_key/bg_key.json\")\n",
    "\n",
    "tabelas_bq = [\n",
    "    \"animes_info_bronze\",\n",
    "    \"animes_info_raw\",\n",
    "    \"comments_info_raw\",\n",
    "    \"forum_info_raw\"\n",
    "]\n",
    "\n",
    "nome_catalogo = \"anime_db\"\n",
    "\n",
    "spark.sql(f\"CREATE SCHEMA IF NOT EXISTS {nome_catalogo}\")\n",
    "\n",
    "for tabela in tabelas_bq:\n",
    "    tabela_bq_full = f\"analyticsprojects-447201.Anime_DB.{tabela}\"\n",
    "    destino = f\"{nome_catalogo}.{tabela}\"\n",
    "\n",
    "    print(f\"🔄 Copiando tabela: {tabela_bq_full} → {destino}\")\n",
    "    \n",
    "    df = spark.read.format(\"bigquery\") \\\n",
    "        .option(\"table\", tabela_bq_full) \\\n",
    "        .option(\"parentProject\", \"analyticsprojects-447201\") \\\n",
    "        .option(\"credentials\", credentials_base64) \\\n",
    "        .load()\n",
    "\n",
    "    df.write.mode(\"overwrite\").saveAsTable(destino)\n",
    "\n",
    "print(\"✅ Todas as tabelas foram copiadas com sucesso para o catálogo Anime_DB.\")"
   ]
  }
 ],
 "metadata": {
  "application/vnd.databricks.v1+notebook": {
   "computePreferences": null,
   "dashboards": [],
   "environmentMetadata": {
    "base_environment": "",
    "environment_version": "2"
   },
   "inputWidgetPreferences": null,
   "language": "python",
   "notebookMetadata": {
    "mostRecentlyExecutedCommandWithImplicitDF": {
     "commandId": 5648598353342262,
     "dataframes": [
      "_sqldf"
     ]
    },
    "pythonIndentUnit": 4
   },
   "notebookName": "01_carregar_anime_db_bq",
   "widgets": {}
  },
  "language_info": {
   "name": "python"
  }
 },
 "nbformat": 4,
 "nbformat_minor": 0
}
